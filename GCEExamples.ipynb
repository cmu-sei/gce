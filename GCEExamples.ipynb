{
 "cells": [
  {
   "cell_type": "markdown",
   "id": "8d32415d-cca4-4520-84f4-c3623ef854c7",
   "metadata": {},
   "source": [
    "Generalized Calibration Error\n",
    "\n",
    "Copyright 2022 Carnegie Mellon University.\n",
    "\n",
    "NO WARRANTY. THIS CARNEGIE MELLON UNIVERSITY AND SOFTWARE ENGINEERING INSTITUTE\n",
    "MATERIAL IS FURNISHED ON AN \"AS-IS\" BASIS. CARNEGIE MELLON UNIVERSITY MAKES NO\n",
    "WARRANTIES OF ANY KIND, EITHER EXPRESSED OR IMPLIED, AS TO ANY MATTER \n",
    "INCLUDING, BUT NOT LIMITED TO, WARRANTY OF FITNESS FOR PURPOSE OR \n",
    "MERCHANTABILITY, EXCLUSIVITY, OR RESULTS OBTAINED FROM USE OF THE MATERIAL. \n",
    "CARNEGIE MELLON UNIVERSITY DOES NOT MAKE ANY WARRANTY OF ANY KIND WITH RESPECT\n",
    "TO FREEDOM FROM PATENT, TRADEMARK, OR COPYRIGHT INFRINGEMENT.\n",
    "\n",
    "Released under a MIT (SEI)-style license, please see license.txt or contact \n",
    "permission@sei.cmu.edu for full terms.\n",
    "\n",
    "[DISTRIBUTION STATEMENT A] This material has been approved for public release \n",
    "and unlimited distribution.  Please see Copyright notice for non-US Government \n",
    "use and distribution.\n",
    "\n",
    "This Software includes and/or makes use of the following Third-Party Software \n",
    "subject to its own license:\n",
    "\n",
    "1. calibration (https://github.com/uu-sml/calibration/blob/master/LICENSE) \n",
    "Copyright 2019 Carl Andersson, David Widmann.\n",
    "\n",
    "2. NumPy (https://github.com/numpy/numpy/blob/main/LICENSE.txt) \n",
    "Copyright 2005-2022 NumPy Developers."
   ]
  },
  {
   "cell_type": "markdown",
   "id": "300b8d4b-6569-4675-81e9-1ceb101fadc7",
   "metadata": {},
   "source": [
    "# Example Notebook for the Generalized Calibration Error Library\n",
    "Each of the blocks below provide examples of the different components of a calibration error, and how to use them.  For discussion of these components and examples that match use cases for calibration error see [\"What is Your Metric Telling You? Evaluating Classifier Calibration under Context-Specific Definitions of Reliability\"](https://arxiv.org/abs/2205.11454).  API documentation can be found found in the docs directory (See README for build instructions of docs).\n",
    "\n",
    "Each lettered section is meant to be self contained, and can be run without running other sections' code (except for the initial imports and loading of data)."
   ]
  },
  {
   "cell_type": "markdown",
   "id": "301c95e3-cda3-4a14-8f8d-31503a51defb",
   "metadata": {},
   "source": [
    "## Initial imports and loading of data (always do these before running any of the cases below)"
   ]
  },
  {
   "cell_type": "code",
   "execution_count": null,
   "id": "0cb762cb-a006-4694-97b3-346bd019218b",
   "metadata": {},
   "outputs": [],
   "source": [
    "import numpy as np\n",
    "from generalized_calibration_error import gce # Generalized calibration error class to create and use a calibration metric"
   ]
  },
  {
   "cell_type": "code",
   "execution_count": null,
   "id": "16830274-d388-4372-be73-41038be8f719",
   "metadata": {},
   "outputs": [],
   "source": [
    "# probs is the outputs over the test set of a simple ResNet trained on CIFAR100; labels are the corresponding labels to those instances.\n",
    "probs = np.load(\"example_data/ResNet50_CIFAR100_test_outputs.npy\")\n",
    "labels = np.load(\"example_data/CIFAR100_test_labels.npy\")"
   ]
  },
  {
   "cell_type": "markdown",
   "id": "c102ef14-3fe6-4d14-b09d-d96d330f303c",
   "metadata": {},
   "source": [
    "## A) Lenses"
   ]
  },
  {
   "cell_type": "markdown",
   "id": "633c8eee",
   "metadata": {},
   "source": [
    "### 1) Top-1 Lens"
   ]
  },
  {
   "cell_type": "code",
   "execution_count": null,
   "id": "b4102a24-5d63-4cfe-9e18-92fadaa80526",
   "metadata": {},
   "outputs": [],
   "source": [
    "# Top-1 lens as defined by component function\n",
    "from generalized_calibration_error.components.lenses import top_1_lens # components is a module in which different components to design a calibration error reside.  The lenses library within components contains the predefined lenses\n",
    "top1_ece_v1 = gce(lens = top_1_lens)\n",
    "top1_ece_v1(probs, labels)"
   ]
  },
  {
   "cell_type": "code",
   "execution_count": null,
   "id": "b78a37aa-4ca8-4d2f-946e-0917944f6505",
   "metadata": {},
   "outputs": [],
   "source": [
    "# Top-1 lens as defined by the more general Top-k lens (Should be identical to the above code block)\n",
    "from generalized_calibration_error.components.lenses import top_k_lens\n",
    "top1_ece_v2 = gce(lens = top_k_lens(k=1))\n",
    "top1_ece_v2(probs,labels)"
   ]
  },
  {
   "cell_type": "markdown",
   "id": "7ebbf775-ada1-4e06-85f4-a8145d7c6213",
   "metadata": {},
   "source": [
    "### 2) Full Lens"
   ]
  },
  {
   "cell_type": "code",
   "execution_count": null,
   "id": "bf7f7593-a512-4e3c-bab6-1f5844cc9186",
   "metadata": {},
   "outputs": [],
   "source": [
    "full_gece_new = gce() # Default lens is the \"full\" lens\n",
    "full_gece_new(probs, labels)"
   ]
  },
  {
   "cell_type": "markdown",
   "id": "0be8af2e-a079-47da-9846-0eb51601c5b0",
   "metadata": {},
   "source": [
    "### 3)Top-5 Lens"
   ]
  },
  {
   "cell_type": "code",
   "execution_count": null,
   "id": "9493670f-3041-411c-86fa-f3a0ce7f5081",
   "metadata": {},
   "outputs": [],
   "source": [
    "from generalized_calibration_error.components.lenses import top_k_lens\n",
    "top5_ece = gce(lens = top_k_lens(k=5))\n",
    "top5_ece(probs,labels)"
   ]
  },
  {
   "cell_type": "markdown",
   "id": "ad6d490c-baf9-43a2-a2d1-37454de2d795",
   "metadata": {},
   "source": [
    "### 4) Grouping Lens"
   ]
  },
  {
   "cell_type": "code",
   "execution_count": null,
   "id": "4728ecc8-efb7-435f-86b8-d6904ddd8caf",
   "metadata": {},
   "outputs": [],
   "source": [
    "# Group first 50 versus last 50 (resulting in a binary classification problem)\n",
    "from generalized_calibration_error.components.lenses import group_lens\n",
    "group_ece = gce(lens = group_lens(groups = [[*range(50)], [*range(50,100)]]))\n",
    "group_ece(probs, labels)"
   ]
  },
  {
   "cell_type": "code",
   "execution_count": null,
   "id": "eb5fd868-930f-4bbe-815d-b21f487f011f",
   "metadata": {},
   "outputs": [],
   "source": [
    "# Group each class in it's own group (should be identical to Full lens case)\n",
    "from generalized_calibration_error.components.lenses import group_lens\n",
    "group_ece = gce(lens = group_lens(groups = [[num] for num in range(100)]))\n",
    "group_ece(probs, labels)"
   ]
  },
  {
   "cell_type": "markdown",
   "id": "3b9f0d80-cf5a-4ba8-b0a1-b4eb87193c5c",
   "metadata": {},
   "source": [
    "### 5) Class-Marginal Lens"
   ]
  },
  {
   "cell_type": "code",
   "execution_count": null,
   "id": "31b90a92-103d-4445-a245-d3f690a9bb9d",
   "metadata": {},
   "outputs": [],
   "source": [
    "# Class 0 marginal lens (class 0 versus rest), using the specialized class marginal class\n",
    "from generalized_calibration_error.components.lenses import class_marginal_lens\n",
    "class_0_marginal_gece_v1 = gce(lens = class_marginal_lens(class_num = 0))\n",
    "class_0_marginal_gece_v1(probs, labels)"
   ]
  },
  {
   "cell_type": "code",
   "execution_count": null,
   "id": "5fc7c08c-7064-4a30-a73d-ef8078830197",
   "metadata": {},
   "outputs": [],
   "source": [
    "# Class 0 marginal lens (class 0 versus rest), using the more general grouping lens (should be identical to the code block above)\n",
    "from generalized_calibration_error.components.lenses import group_lens\n",
    "class_0_marginal_gece_v1 = gce(lens = group_lens(groups = [[0], [*range(1,100)]]))\n",
    "class_0_marginal_gece_v1(probs, labels)"
   ]
  },
  {
   "cell_type": "markdown",
   "id": "8c87ead9-4137-468a-adf5-50764ac9ee09",
   "metadata": {},
   "source": [
    "## B) Selection Ops"
   ]
  },
  {
   "cell_type": "markdown",
   "id": "5968b14d-54dd-479d-81d5-ed03aca098bb",
   "metadata": {},
   "source": [
    "### Lens for this section (run this for ops examples)"
   ]
  },
  {
   "cell_type": "code",
   "execution_count": null,
   "id": "3d78c04f-c2a4-4de8-b4df-153db28b3958",
   "metadata": {},
   "outputs": [],
   "source": [
    "from generalized_calibration_error.components.lenses import top_1_lens"
   ]
  },
  {
   "cell_type": "markdown",
   "id": "62139f09-df03-4c96-a0fc-a4334725f7c0",
   "metadata": {},
   "source": [
    "### 1) Label Selection"
   ]
  },
  {
   "cell_type": "code",
   "execution_count": null,
   "id": "0e6a7b6d-f7f2-4cd5-a3bc-945b1c9a81b3",
   "metadata": {},
   "outputs": [],
   "source": [
    "# Select instances labeled with class 0, compute the top-1 ECE\n",
    "from generalized_calibration_error.components.selection_ops import label_selection_op\n",
    "first_class_selection_op = label_selection_op(classes = [0])\n",
    "label_selection_ece = gce(lens=top_1_lens, selection_op = first_class_selection_op, preselection = True) # Preselection set to True means the selection operator is applied BEFORE the lens is applied\n",
    "label_selection_ece(probs, labels)"
   ]
  },
  {
   "cell_type": "code",
   "execution_count": null,
   "id": "55cc5d2e-407e-4701-a4c8-7b7e7bdbef5d",
   "metadata": {},
   "outputs": [],
   "source": [
    "label_selection_ece = gce(lens=top_1_lens, selection_op = first_class_selection_op, preselection = False) # Preselection set to False means the selection operator is applied AFTER the lens is applied\n",
    "label_selection_ece(probs, labels)"
   ]
  },
  {
   "cell_type": "markdown",
   "id": "97762312-4a69-4579-819f-ef31717f9e4f",
   "metadata": {},
   "source": [
    "### 2) Output Selection"
   ]
  },
  {
   "cell_type": "code",
   "execution_count": null,
   "id": "1c60fb37-db1e-4982-925a-b12077c8a015",
   "metadata": {},
   "outputs": [],
   "source": [
    "# After a top-1 lens, select all instances with max probability greater than or equal to 0.999999\n",
    "import operator\n",
    "from generalized_calibration_error.components.selection_ops import output_selection_op\n",
    "high_conf_selection_op = output_selection_op(operator = operator.ge, rhs_value = 0.999999, membership_dim = 0)\n",
    "output_selection_gece = gce(lens=top_1_lens, selection_op = high_conf_selection_op, preselection = False)\n",
    "output_selection_gece(probs,labels)"
   ]
  },
  {
   "cell_type": "code",
   "execution_count": null,
   "id": "55bac8ec-c3ba-4bfc-a79c-561bd36ab0c4",
   "metadata": {},
   "outputs": [],
   "source": [
    "# Same as above but select instances with max probability less than or equal to 0.2\n",
    "low_conf_selection_op = output_selection_op(operator = operator.le, rhs_value = 0.2, membership_dim = 0)\n",
    "output_selection_ece = gce(lens=top_1_lens, selection_op = low_conf_selection_op, preselection = False)\n",
    "output_selection_ece(probs,labels)"
   ]
  },
  {
   "cell_type": "code",
   "execution_count": null,
   "id": "0847ba8f-5383-4716-97f1-b945a36e9baf",
   "metadata": {},
   "outputs": [],
   "source": [
    "# Same as above but select instances with max probability between 0.45 and 0.55, inclusive\n",
    "high_end_selection_op = output_selection_op(operator = operator.le, rhs_value = 0.55, membership_dim = 0)\n",
    "low_end_selection_op = output_selection_op(operator = operator.ge, rhs_value = 0.45, membership_dim = 0)\n",
    "output_selection_ece = gce(lens=top_1_lens, selection_op = lambda a,b: high_end_selection_op(*low_end_selection_op(a,b)), preselection = False)\n",
    "output_selection_ece(probs,labels)"
   ]
  },
  {
   "cell_type": "markdown",
   "id": "99499d40-8585-4272-b82b-b9a96999c3df",
   "metadata": {},
   "source": [
    "## C) Aggregation Functions"
   ]
  },
  {
   "cell_type": "markdown",
   "id": "f3c02706-6625-4a60-ac75-62c4cc2cb64e",
   "metadata": {},
   "source": [
    "### Lens for this section (run these for aggregation examples)"
   ]
  },
  {
   "cell_type": "code",
   "execution_count": null,
   "id": "120b8803-6363-4ad1-ad9d-be9a515bcb91",
   "metadata": {},
   "outputs": [],
   "source": [
    "from generalized_calibration_error.components.lenses import top_1_lens"
   ]
  },
  {
   "cell_type": "markdown",
   "id": "1d00d387-c3fe-4970-a5f6-f07de631a011",
   "metadata": {},
   "source": [
    "### 1) Expectation"
   ]
  },
  {
   "cell_type": "code",
   "execution_count": null,
   "id": "c4ed829c-03fd-42cd-8c19-4dd787530692",
   "metadata": {},
   "outputs": [],
   "source": [
    "# Perform top-1 EXPECTED calibration error (In this case, due to histogram binning being the estimation scheme, the expectation is over bins).\n",
    "from generalized_calibration_error.components.aggregation_fns import expectation\n",
    "ece = gce(lens = top_1_lens, aggregation_fn = expectation)\n",
    "ece(probs,labels)"
   ]
  },
  {
   "cell_type": "markdown",
   "id": "0f03e12f-bf49-4b18-8307-5e111bb22f3c",
   "metadata": {},
   "source": [
    "### 2) Maximum"
   ]
  },
  {
   "cell_type": "code",
   "execution_count": null,
   "id": "de16eac5-e34a-4d2e-9fe9-b31eef7b0711",
   "metadata": {},
   "outputs": [],
   "source": [
    "# Perform top-1 MAXIMUM calibration error (In this case, due to histogram binning being the estimation scheme, the maximum is over bins)\n",
    "from generalized_calibration_error.components.aggregation_fns import maximum\n",
    "mce = gce(lens = top_1_lens, aggregation_fn = maximum)\n",
    "mce(probs,labels)"
   ]
  },
  {
   "cell_type": "markdown",
   "id": "c14fff13-bd3e-4b6a-bb69-b446c02d0ae8",
   "metadata": {},
   "source": [
    "## D) Estimation Schemes"
   ]
  },
  {
   "cell_type": "markdown",
   "id": "08fa823f-018c-4004-8136-d903976ed0e3",
   "metadata": {},
   "source": [
    "### Lens for this section (run these for estimation examples)"
   ]
  },
  {
   "cell_type": "code",
   "execution_count": null,
   "id": "f64339da-c923-4347-ad86-4d9662692791",
   "metadata": {},
   "outputs": [],
   "source": [
    "from generalized_calibration_error.components.lenses import top_1_lens"
   ]
  },
  {
   "cell_type": "markdown",
   "id": "f19a32a5-d4ed-4be6-8dfe-04cfca432efe",
   "metadata": {},
   "source": [
    "### 1) Uniform Binning Histogram Estimation"
   ]
  },
  {
   "cell_type": "code",
   "execution_count": null,
   "id": "1b156abe-98c8-4b5f-ace8-b9a931412aa4",
   "metadata": {},
   "outputs": [],
   "source": [
    "# Estimation is done via histogram binning with 1000 uniform sized bins \n",
    "from generalized_calibration_error.components.estimation_schemes.histogram_binning_estimators import uniform_histogram_binning_estimator\n",
    "uniform_hist_top1_ece = gce(lens = top_1_lens, estimation_scheme = uniform_histogram_binning_estimator(bins=1000))\n",
    "uniform_hist_top1_ece(probs,labels)"
   ]
  },
  {
   "cell_type": "markdown",
   "id": "ef07c54e-c756-407f-b166-0e2f06ebe55d",
   "metadata": {},
   "source": [
    "### 2) Adaptive Binning Histogram Estimation"
   ]
  },
  {
   "cell_type": "code",
   "execution_count": null,
   "id": "debcb40f-f774-4b50-910e-8fa29df23d82",
   "metadata": {},
   "outputs": [],
   "source": [
    "# Estimation is done via histogram binning with adaptive bins with approximately 0.001 of the data in each bin (~ 10 instances per bin)\n",
    "from generalized_calibration_error.components.estimation_schemes.histogram_binning_estimators import adaptive_histogram_binning_estimator\n",
    "adaptive_hist_top1_ece = gce(lens = top_1_lens, estimation_scheme = adaptive_histogram_binning_estimator(frac_per_bin=0.001))\n",
    "adaptive_hist_top1_ece(probs,labels)"
   ]
  },
  {
   "cell_type": "markdown",
   "id": "02e74180-7fa2-449f-ad77-f0ab28e422d2",
   "metadata": {},
   "source": [
    "## E) Distance Functions"
   ]
  },
  {
   "cell_type": "markdown",
   "id": "b647800c-781d-4e52-91f0-7d998df3a92d",
   "metadata": {},
   "source": [
    "### Max lens for the next two subsections (run this first) (also assumes no selection operators and uniform binning with 15 bins)"
   ]
  },
  {
   "cell_type": "code",
   "execution_count": null,
   "id": "568164d0-8262-4f70-98de-5b700041b40e",
   "metadata": {},
   "outputs": [],
   "source": [
    "from generalized_calibration_error.components.lenses import top_1_lens"
   ]
  },
  {
   "cell_type": "markdown",
   "id": "1ef3a0c2-d2c5-4be2-8b06-950f52efe895",
   "metadata": {},
   "source": [
    "### 1) Total Variation Distance"
   ]
  },
  {
   "cell_type": "code",
   "execution_count": null,
   "id": "69744791-c34b-4df1-9533-7177c7fcbbb3",
   "metadata": {},
   "outputs": [],
   "source": [
    "# Distance used for error calculation is total variation distance (should be identical to A.1)\n",
    "from generalized_calibration_error.components.distance_fns import tvd\n",
    "tvd_ece = gce(lens = top_1_lens, distance_fn = tvd)\n",
    "tvd_ece(probs, labels)"
   ]
  },
  {
   "cell_type": "markdown",
   "id": "840932c8-4bd4-47cc-a8fb-f9c3a36110ad",
   "metadata": {},
   "source": [
    "### 2) Generalized Mahalanobis Distance"
   ]
  },
  {
   "cell_type": "code",
   "execution_count": null,
   "id": "dd9aac2d-2a95-4a83-bb6b-08ad48e24bb8",
   "metadata": {},
   "outputs": [],
   "source": [
    "# Distance used for error calculation is a Mahalanobis distance with identity as the precision matrix (equivalent to l2 distance)\n",
    "from generalized_calibration_error.components.distance_fns import generalized_mahalanobis_distance\n",
    "GMD_ece = gce(lens = top_1_lens, distance_fn = generalized_mahalanobis_distance(W = np.eye(2)))\n",
    "GMD_ece(probs, labels)"
   ]
  },
  {
   "cell_type": "code",
   "execution_count": null,
   "id": "b6e79458-0fdc-4c74-b706-dee6f00fe67e",
   "metadata": {},
   "outputs": [],
   "source": [
    "# Same as above block, but with a non-identity precision matrix\n",
    "GMD_ece = gce(lens = top_1_lens, distance_fn = generalized_mahalanobis_distance(W = np.array([[1,0.5],[0.05,1]])))\n",
    "GMD_ece(probs, labels)"
   ]
  },
  {
   "cell_type": "markdown",
   "id": "a90ba182-951d-42c7-8c2c-e4a6c2b0a492",
   "metadata": {},
   "source": [
    "### Grouping Lens, Interval Selection operators, and adaptive binning, for the next two subsections"
   ]
  },
  {
   "cell_type": "code",
   "execution_count": null,
   "id": "be60a0fd-5132-42ac-9848-6f5193f2ee7a",
   "metadata": {},
   "outputs": [],
   "source": [
    "# Group first 50 versus last 50\n",
    "from generalized_calibration_error.components.lenses import group_lens\n",
    "group_lens = group_lens(groups = [[*range(50)], [*range(50,100)]])\n",
    "\n",
    "# Select all instances between 0.6 and 0.4 probability\n",
    "import operator\n",
    "from generalized_calibration_error.components.selection_ops import output_selection_op\n",
    "high_end_selection_op = output_selection_op(operator = operator.le, rhs_value = 0.6, membership_dim = 0)\n",
    "low_end_selection_op = output_selection_op(operator = operator.ge, rhs_value = 0.4, membership_dim = 0)\n",
    "interval_selection_op =  lambda a,b: high_end_selection_op(*low_end_selection_op(a,b))\n",
    "\n",
    "# Adaptive binning\n",
    "from generalized_calibration_error.components.estimation_schemes.histogram_binning_estimators import adaptive_histogram_binning_estimator\n",
    "adaptive_estimation_scheme = adaptive_histogram_binning_estimator(frac_per_bin=0.1)"
   ]
  },
  {
   "cell_type": "markdown",
   "id": "842ffdae-ef06-4501-894b-bb81fdca8cf3",
   "metadata": {},
   "source": [
    "### 3) Total Interval TVD"
   ]
  },
  {
   "cell_type": "code",
   "execution_count": null,
   "id": "23a58601-e330-414a-b3f7-9c7bf19b2e3d",
   "metadata": {},
   "outputs": [],
   "source": [
    "# Distance used is the standard total variational distance, except for bins where the mean label is inside the interval [0.4] [0.6], in which it is 0. (incurs error for only bins that violate a interval assumption)\n",
    "from generalized_calibration_error.components.distance_fns import interval_tvd\n",
    "medium_interval_tvd = interval_tvd(interval = [0.4,0.6], inclusivity = [True, True])\n",
    "\n",
    "medium_interval_ece = gce(lens = group_lens, \n",
    "                         selection_op = interval_selection_op, \n",
    "                         preselection = False, \n",
    "                         estimation_scheme = adaptive_estimation_scheme, \n",
    "                         distance_fn = medium_interval_tvd)\n",
    "medium_interval_ece(probs, labels)"
   ]
  },
  {
   "cell_type": "markdown",
   "id": "f10d8854-977a-4e77-bf94-97dcbe957405",
   "metadata": {},
   "source": [
    "### 4) Inter-Interval Distance"
   ]
  },
  {
   "cell_type": "code",
   "execution_count": null,
   "id": "fdaf0ff0-0026-4834-8f50-b90bd78156fb",
   "metadata": {},
   "outputs": [],
   "source": [
    "# Distance used is distance of the mean label to the closest interval boundary for the interval [0.4, 0.6], or 0 if within the interval (incurs error for only bins that violate a interval assumption, proportional to degree of violation)\n",
    "from generalized_calibration_error.components.distance_fns import inter_interval_distance\n",
    "medium_interval_distance = inter_interval_distance(interval = [0.4,0.6])\n",
    "\n",
    "medium_interval_ece = gce(lens = group_lens, \n",
    "                         selection_op = interval_selection_op, \n",
    "                         preselection = False, \n",
    "                         estimation_scheme = adaptive_estimation_scheme, \n",
    "                         distance_fn = medium_interval_distance)\n",
    "medium_interval_ece(probs, labels)"
   ]
  }
 ],
 "metadata": {
  "kernelspec": {
   "display_name": "Python 3 (ipykernel)",
   "language": "python",
   "name": "python3"
  },
  "language_info": {
   "codemirror_mode": {
    "name": "ipython",
    "version": 3
   },
   "file_extension": ".py",
   "mimetype": "text/x-python",
   "name": "python",
   "nbconvert_exporter": "python",
   "pygments_lexer": "ipython3",
   "version": "3.9.12"
  }
 },
 "nbformat": 4,
 "nbformat_minor": 5
}
